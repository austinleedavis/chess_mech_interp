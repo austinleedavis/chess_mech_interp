{
 "cells": [
  {
   "cell_type": "code",
   "execution_count": 2,
   "metadata": {},
   "outputs": [
    {
     "name": "stdout",
     "output_type": "stream",
     "text": [
      "Loaded model and tokenizer\n",
      "{0: ' ', 1: '1', 2: '2', 3: '3', 4: '4', 5: '5', 6: '6', 7: '7', 8: '8', 9: ';', 10: '#', 11: 'a', 12: 'b', 13: 'c', 14: 'd', 15: 'e', 16: 'f', 17: 'g', 18: 'h', 19: 'n', 20: 'r', 21: 'q', 22: 'k'}\n",
      "{' ': 0, '1': 1, '2': 2, '3': 3, '4': 4, '5': 5, '6': 6, '7': 7, '8': 8, ';': 9, '#': 10, 'a': 11, 'b': 12, 'c': 13, 'd': 14, 'e': 15, 'f': 16, 'g': 17, 'h': 18, 'n': 19, 'r': 20, 'q': 21, 'k': 22}\n"
     ]
    }
   ],
   "source": [
    "import os\n",
    "assert os.getcwd().split('/')[-1] == 'src'\n",
    "\n",
    "\n",
    "from transformer_lens import  HookedTransformer\n",
    "import torch\n",
    "import pandas as pd\n",
    "from uci_tokenizer import UciTokenizer\n",
    "\n",
    "DIR = '../models/'\n",
    "\n",
    "\n",
    "cfg = torch.load('../models/tf_lens_full_lichess_uci_all_elos_8layers_cfg.pth')\n",
    "\n",
    "model = HookedTransformer(cfg)\n",
    "\n",
    "state_dict = torch.load(f'{DIR}tf_lens_lichess_uci_all_elos_8layers_state_dict.pth')\n",
    "model.load_state_dict(state_dict)\n",
    "tokenizer = UciTokenizer()\n",
    "model.tokenizer=tokenizer\n",
    "\n",
    "print(\"Loaded model and tokenizer\")\n",
    "\n",
    "print(model.tokenizer.itos)\n",
    "print(model.tokenizer.stoi)\n"
   ]
  },
  {
   "cell_type": "markdown",
   "metadata": {},
   "source": [
    "We'll start by visualizing activations of each layer. The challenge here is to see what's going on for each token. My hypothesis is that the space token (id=0) will actually be the one that best predicts board state. "
   ]
  }
 ],
 "metadata": {
  "kernelspec": {
   "display_name": "Py 3.11 (chess)",
   "language": "python",
   "name": "chess"
  },
  "language_info": {
   "codemirror_mode": {
    "name": "ipython",
    "version": 3
   },
   "file_extension": ".py",
   "mimetype": "text/x-python",
   "name": "python",
   "nbconvert_exporter": "python",
   "pygments_lexer": "ipython3",
   "version": "3.11.5"
  }
 },
 "nbformat": 4,
 "nbformat_minor": 2
}
